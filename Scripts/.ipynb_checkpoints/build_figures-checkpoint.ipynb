{
 "cells": [
  {
   "cell_type": "code",
   "execution_count": 1,
   "metadata": {
    "ExecuteTime": {
     "end_time": "2020-12-02T07:48:45.670394Z",
     "start_time": "2020-12-02T07:48:36.800865Z"
    }
   },
   "outputs": [],
   "source": [
    "import pandas as pd\n",
    "import numpy as np\n",
    "import matplotlib.pyplot as plt\n",
    "%matplotlib inline\n",
    "import seaborn as sns\n",
    "sns.set()\n",
    "import warnings\n",
    "warnings.filterwarnings('ignore')"
   ]
  },
  {
   "cell_type": "code",
   "execution_count": 2,
   "metadata": {
    "ExecuteTime": {
     "end_time": "2020-12-02T07:48:45.686819Z",
     "start_time": "2020-12-02T07:48:45.673922Z"
    }
   },
   "outputs": [],
   "source": [
    "model_used = []\n",
    "dataset = []\n",
    "raw_acc = []\n",
    "raw_roc_auc = []\n",
    "raw_f1 = []\n",
    "tage = []"
   ]
  },
  {
   "cell_type": "code",
   "execution_count": null,
   "metadata": {
    "ExecuteTime": {
     "end_time": "2020-12-02T07:48:45.908923Z",
     "start_time": "2020-12-02T07:48:45.690980Z"
    }
   },
   "outputs": [],
   "source": [
    "with open(\"tage_results.txt\") as file:\n",
    "    for i in range(7):\n",
    "        line = file.readline().strip()\n",
    "        tage.append(np.float(line))"
   ]
  },
  {
   "cell_type": "code",
   "execution_count": 97,
   "metadata": {},
   "outputs": [],
   "source": [
    "with open(\"results.txt\") as file:\n",
    "    for i in range(146):\n",
    "        line = file.readline().strip().split(': ')\n",
    "        if(line[0]=='MODEL USED'):\n",
    "            model_used.append(line[1])\n",
    "        elif(line[0]=='DATASET'):\n",
    "            dataset.append(line[1])\n",
    "        elif(line[0]=='ACCURACY'):\n",
    "            raw_acc.append(line[1])\n",
    "        elif(line[0]=='ROC-AUC SCORE'):\n",
    "            raw_roc_auc.append(line[1])\n",
    "        elif(line[0]=='F1 SCORE'):\n",
    "            raw_f1.append(line[1])\n",
    "        else:\n",
    "            continue\n",
    "        "
   ]
  },
  {
   "cell_type": "code",
   "execution_count": 98,
   "metadata": {},
   "outputs": [],
   "source": [
    "acc = np.array(raw_acc,dtype=np.float)\n",
    "roc_auc = np.array(raw_roc_auc,dtype=np.float)\n",
    "f1 = np.array(raw_f1,dtype=np.float)\n",
    "tage = np.array(tage,dtype=np.float)"
   ]
  },
  {
   "cell_type": "code",
   "execution_count": 99,
   "metadata": {},
   "outputs": [],
   "source": [
    "metrics = [*['Accuracy']*3,*['Roc-auc score']*3,*['f1 score']*3]\n",
    "dataset = ['MMO3','SO4','INT02','MM05','S02','INT04']"
   ]
  },
  {
   "cell_type": "code",
   "execution_count": 100,
   "metadata": {},
   "outputs": [],
   "source": [
    "tuples = list(zip(*[metrics,['MLP','RandomForestClassifier','DecisionTree']*6]))\n",
    "index = pd.MultiIndex.from_tuples(tuples,names=['Metrics','Model used'])"
   ]
  },
  {
   "cell_type": "code",
   "execution_count": 101,
   "metadata": {},
   "outputs": [
    {
     "data": {
      "text/plain": [
       "array([[0.94296667, 0.9459198 , 0.94014762],\n",
       "       [0.96605   , 0.96585604, 0.96250207],\n",
       "       [0.95388333, 0.95356684, 0.94905831],\n",
       "       [0.97695   , 0.95996524, 0.94138216],\n",
       "       [0.9839625 , 0.96683874, 0.95877382],\n",
       "       [0.9701375 , 0.95650904, 0.92553689],\n",
       "       [0.9051125 , 0.91883005, 0.9236218 ],\n",
       "       [0.934525  , 0.92883641, 0.94993213],\n",
       "       [0.91345   , 0.90374253, 0.93407221],\n",
       "       [0.8506375 , 0.8289315 , 0.76322204],\n",
       "       [0.8613375 , 0.83641425, 0.77614771],\n",
       "       [0.815475  , 0.78508771, 0.70436977],\n",
       "       [0.9485125 , 0.94342969, 0.92943172],\n",
       "       [0.958775  , 0.94870934, 0.9418957 ],\n",
       "       [0.9463125 , 0.94298985, 0.92708846],\n",
       "       [0.992225  , 0.98985363, 0.97601789],\n",
       "       [0.9926625 , 0.99055547, 0.97736126],\n",
       "       [0.99245   , 0.99042892, 0.97672088]])"
      ]
     },
     "execution_count": 101,
     "metadata": {},
     "output_type": "execute_result"
    }
   ],
   "source": [
    "raw_data = np.array(list(zip(*[acc,roc_auc,f1])))\n",
    "raw_data"
   ]
  },
  {
   "cell_type": "code",
   "execution_count": 102,
   "metadata": {},
   "outputs": [],
   "source": [
    "data = raw_data.reshape((6,9)).T"
   ]
  },
  {
   "cell_type": "code",
   "execution_count": 103,
   "metadata": {},
   "outputs": [
    {
     "data": {
      "text/html": [
       "<div>\n",
       "<style scoped>\n",
       "    .dataframe tbody tr th:only-of-type {\n",
       "        vertical-align: middle;\n",
       "    }\n",
       "\n",
       "    .dataframe tbody tr th {\n",
       "        vertical-align: top;\n",
       "    }\n",
       "\n",
       "    .dataframe thead th {\n",
       "        text-align: right;\n",
       "    }\n",
       "</style>\n",
       "<table border=\"1\" class=\"dataframe\">\n",
       "  <thead>\n",
       "    <tr style=\"text-align: right;\">\n",
       "      <th></th>\n",
       "      <th></th>\n",
       "      <th>MMO3</th>\n",
       "      <th>SO4</th>\n",
       "      <th>INT02</th>\n",
       "      <th>MM05</th>\n",
       "      <th>S02</th>\n",
       "      <th>INT04</th>\n",
       "      <th>Average</th>\n",
       "    </tr>\n",
       "    <tr>\n",
       "      <th>Metrics</th>\n",
       "      <th>Model used</th>\n",
       "      <th></th>\n",
       "      <th></th>\n",
       "      <th></th>\n",
       "      <th></th>\n",
       "      <th></th>\n",
       "      <th></th>\n",
       "      <th></th>\n",
       "    </tr>\n",
       "  </thead>\n",
       "  <tbody>\n",
       "    <tr>\n",
       "      <th rowspan=\"3\" valign=\"top\">Accuracy</th>\n",
       "      <th>MLP</th>\n",
       "      <td>0.942967</td>\n",
       "      <td>0.976950</td>\n",
       "      <td>0.905112</td>\n",
       "      <td>0.850638</td>\n",
       "      <td>0.948512</td>\n",
       "      <td>0.992225</td>\n",
       "      <td>0.936067</td>\n",
       "    </tr>\n",
       "    <tr>\n",
       "      <th>RandomForestClassifier</th>\n",
       "      <td>0.945920</td>\n",
       "      <td>0.959965</td>\n",
       "      <td>0.918830</td>\n",
       "      <td>0.828932</td>\n",
       "      <td>0.943430</td>\n",
       "      <td>0.989854</td>\n",
       "      <td>0.931155</td>\n",
       "    </tr>\n",
       "    <tr>\n",
       "      <th>DecisionTree</th>\n",
       "      <td>0.940148</td>\n",
       "      <td>0.941382</td>\n",
       "      <td>0.923622</td>\n",
       "      <td>0.763222</td>\n",
       "      <td>0.929432</td>\n",
       "      <td>0.976018</td>\n",
       "      <td>0.912304</td>\n",
       "    </tr>\n",
       "    <tr>\n",
       "      <th rowspan=\"3\" valign=\"top\">Roc-auc score</th>\n",
       "      <th>MLP</th>\n",
       "      <td>0.966050</td>\n",
       "      <td>0.983962</td>\n",
       "      <td>0.934525</td>\n",
       "      <td>0.861337</td>\n",
       "      <td>0.958775</td>\n",
       "      <td>0.992663</td>\n",
       "      <td>0.949552</td>\n",
       "    </tr>\n",
       "    <tr>\n",
       "      <th>RandomForestClassifier</th>\n",
       "      <td>0.965856</td>\n",
       "      <td>0.966839</td>\n",
       "      <td>0.928836</td>\n",
       "      <td>0.836414</td>\n",
       "      <td>0.948709</td>\n",
       "      <td>0.990555</td>\n",
       "      <td>0.939535</td>\n",
       "    </tr>\n",
       "    <tr>\n",
       "      <th>DecisionTree</th>\n",
       "      <td>0.962502</td>\n",
       "      <td>0.958774</td>\n",
       "      <td>0.949932</td>\n",
       "      <td>0.776148</td>\n",
       "      <td>0.941896</td>\n",
       "      <td>0.977361</td>\n",
       "      <td>0.927769</td>\n",
       "    </tr>\n",
       "    <tr>\n",
       "      <th rowspan=\"3\" valign=\"top\">f1 score</th>\n",
       "      <th>MLP</th>\n",
       "      <td>0.953883</td>\n",
       "      <td>0.970137</td>\n",
       "      <td>0.913450</td>\n",
       "      <td>0.815475</td>\n",
       "      <td>0.946313</td>\n",
       "      <td>0.992450</td>\n",
       "      <td>0.931951</td>\n",
       "    </tr>\n",
       "    <tr>\n",
       "      <th>RandomForestClassifier</th>\n",
       "      <td>0.953567</td>\n",
       "      <td>0.956509</td>\n",
       "      <td>0.903743</td>\n",
       "      <td>0.785088</td>\n",
       "      <td>0.942990</td>\n",
       "      <td>0.990429</td>\n",
       "      <td>0.922054</td>\n",
       "    </tr>\n",
       "    <tr>\n",
       "      <th>DecisionTree</th>\n",
       "      <td>0.949058</td>\n",
       "      <td>0.925537</td>\n",
       "      <td>0.934072</td>\n",
       "      <td>0.704370</td>\n",
       "      <td>0.927088</td>\n",
       "      <td>0.976721</td>\n",
       "      <td>0.902808</td>\n",
       "    </tr>\n",
       "  </tbody>\n",
       "</table>\n",
       "</div>"
      ],
      "text/plain": [
       "                                          MMO3       SO4     INT02      MM05  \\\n",
       "Metrics       Model used                                                       \n",
       "Accuracy      MLP                     0.942967  0.976950  0.905112  0.850638   \n",
       "              RandomForestClassifier  0.945920  0.959965  0.918830  0.828932   \n",
       "              DecisionTree            0.940148  0.941382  0.923622  0.763222   \n",
       "Roc-auc score MLP                     0.966050  0.983962  0.934525  0.861337   \n",
       "              RandomForestClassifier  0.965856  0.966839  0.928836  0.836414   \n",
       "              DecisionTree            0.962502  0.958774  0.949932  0.776148   \n",
       "f1 score      MLP                     0.953883  0.970137  0.913450  0.815475   \n",
       "              RandomForestClassifier  0.953567  0.956509  0.903743  0.785088   \n",
       "              DecisionTree            0.949058  0.925537  0.934072  0.704370   \n",
       "\n",
       "                                           S02     INT04   Average  \n",
       "Metrics       Model used                                            \n",
       "Accuracy      MLP                     0.948512  0.992225  0.936067  \n",
       "              RandomForestClassifier  0.943430  0.989854  0.931155  \n",
       "              DecisionTree            0.929432  0.976018  0.912304  \n",
       "Roc-auc score MLP                     0.958775  0.992663  0.949552  \n",
       "              RandomForestClassifier  0.948709  0.990555  0.939535  \n",
       "              DecisionTree            0.941896  0.977361  0.927769  \n",
       "f1 score      MLP                     0.946313  0.992450  0.931951  \n",
       "              RandomForestClassifier  0.942990  0.990429  0.922054  \n",
       "              DecisionTree            0.927088  0.976721  0.902808  "
      ]
     },
     "execution_count": 103,
     "metadata": {},
     "output_type": "execute_result"
    }
   ],
   "source": [
    "df = pd.DataFrame(data,index=index,columns=dataset)\n",
    "df['Average'] = df.mean(axis=1)\n",
    "df"
   ]
  },
  {
   "cell_type": "code",
   "execution_count": 104,
   "metadata": {},
   "outputs": [
    {
     "name": "stderr",
     "output_type": "stream",
     "text": [
      "/home/dmitry/anaconda3/lib/python3.8/site-packages/pandas/core/indexing.py:670: SettingWithCopyWarning: \n",
      "A value is trying to be set on a copy of a slice from a DataFrame\n",
      "\n",
      "See the caveats in the documentation: https://pandas.pydata.org/pandas-docs/stable/user_guide/indexing.html#returning-a-view-versus-a-copy\n",
      "  iloc._setitem_with_indexer(indexer, value)\n"
     ]
    },
    {
     "data": {
      "text/html": [
       "<div>\n",
       "<style scoped>\n",
       "    .dataframe tbody tr th:only-of-type {\n",
       "        vertical-align: middle;\n",
       "    }\n",
       "\n",
       "    .dataframe tbody tr th {\n",
       "        vertical-align: top;\n",
       "    }\n",
       "\n",
       "    .dataframe thead th {\n",
       "        text-align: right;\n",
       "    }\n",
       "</style>\n",
       "<table border=\"1\" class=\"dataframe\">\n",
       "  <thead>\n",
       "    <tr style=\"text-align: right;\">\n",
       "      <th></th>\n",
       "      <th>MMO3</th>\n",
       "      <th>SO4</th>\n",
       "      <th>INT02</th>\n",
       "      <th>MM05</th>\n",
       "      <th>S02</th>\n",
       "      <th>INT04</th>\n",
       "      <th>Average</th>\n",
       "    </tr>\n",
       "    <tr>\n",
       "      <th>Model used</th>\n",
       "      <th></th>\n",
       "      <th></th>\n",
       "      <th></th>\n",
       "      <th></th>\n",
       "      <th></th>\n",
       "      <th></th>\n",
       "      <th></th>\n",
       "    </tr>\n",
       "  </thead>\n",
       "  <tbody>\n",
       "    <tr>\n",
       "      <th>MLP</th>\n",
       "      <td>0.942967</td>\n",
       "      <td>0.976950</td>\n",
       "      <td>0.905112</td>\n",
       "      <td>0.850638</td>\n",
       "      <td>0.948512</td>\n",
       "      <td>0.992225</td>\n",
       "      <td>0.936067</td>\n",
       "    </tr>\n",
       "    <tr>\n",
       "      <th>RandomForestClassifier</th>\n",
       "      <td>0.945920</td>\n",
       "      <td>0.959965</td>\n",
       "      <td>0.918830</td>\n",
       "      <td>0.828932</td>\n",
       "      <td>0.943430</td>\n",
       "      <td>0.989854</td>\n",
       "      <td>0.931155</td>\n",
       "    </tr>\n",
       "    <tr>\n",
       "      <th>DecisionTree</th>\n",
       "      <td>0.940148</td>\n",
       "      <td>0.941382</td>\n",
       "      <td>0.923622</td>\n",
       "      <td>0.763222</td>\n",
       "      <td>0.929432</td>\n",
       "      <td>0.976018</td>\n",
       "      <td>0.912304</td>\n",
       "    </tr>\n",
       "    <tr>\n",
       "      <th>MTAGE+SC</th>\n",
       "      <td>0.988884</td>\n",
       "      <td>0.992121</td>\n",
       "      <td>0.958235</td>\n",
       "      <td>0.945538</td>\n",
       "      <td>0.973133</td>\n",
       "      <td>0.997778</td>\n",
       "      <td>0.977632</td>\n",
       "    </tr>\n",
       "  </tbody>\n",
       "</table>\n",
       "</div>"
      ],
      "text/plain": [
       "                            MMO3       SO4     INT02      MM05       S02  \\\n",
       "Model used                                                                 \n",
       "MLP                     0.942967  0.976950  0.905112  0.850638  0.948512   \n",
       "RandomForestClassifier  0.945920  0.959965  0.918830  0.828932  0.943430   \n",
       "DecisionTree            0.940148  0.941382  0.923622  0.763222  0.929432   \n",
       "MTAGE+SC                0.988884  0.992121  0.958235  0.945538  0.973133   \n",
       "\n",
       "                           INT04   Average  \n",
       "Model used                                  \n",
       "MLP                     0.992225  0.936067  \n",
       "RandomForestClassifier  0.989854  0.931155  \n",
       "DecisionTree            0.976018  0.912304  \n",
       "MTAGE+SC                0.997778  0.977632  "
      ]
     },
     "execution_count": 104,
     "metadata": {},
     "output_type": "execute_result"
    }
   ],
   "source": [
    "df_acc = df.loc['Accuracy']\n",
    "df_acc.loc['MTAGE+SC'] = tage\n",
    "df_acc"
   ]
  },
  {
   "cell_type": "code",
   "execution_count": 122,
   "metadata": {},
   "outputs": [],
   "source": [
    "def create_fig(data,metric):\n",
    "    sns.set_style('darkgrid')\n",
    "    plt.style.use('ggplot')\n",
    "    data.T.plot(kind='bar',figsize=(9,7))\n",
    "    plt.xlabel('Datasets')\n",
    "    plt.ylabel('{}, %'.format(metric))"
   ]
  },
  {
   "cell_type": "code",
   "execution_count": 125,
   "metadata": {},
   "outputs": [
    {
     "data": {
      "image/png": "[encoded data removed]",
      "text/plain": [
       "<Figure size 648x504 with 1 Axes>"
      ]
     },
     "metadata": {},
     "output_type": "display_data"
    }
   ],
   "source": [
    "inv_acc = 1 - df_acc\n",
    "create_fig(inv_acc,\"Misprediction Rate\")"
   ]
  },
  {
   "cell_type": "code",
   "execution_count": 126,
   "metadata": {},
   "outputs": [
    {
     "data": {
      "image/png": "[encoded data removed]",
      "text/plain": [
       "<Figure size 648x504 with 1 Axes>"
      ]
     },
     "metadata": {},
     "output_type": "display_data"
    }
   ],
   "source": [
    "inv_df = 1-df\n",
    "create_fig(inv_df.loc['Roc-auc score'],'Roc-auc score')"
   ]
  },
  {
   "cell_type": "code",
   "execution_count": 127,
   "metadata": {},
   "outputs": [
    {
     "data": {
      "image/png": "[encoded data removed]",
      "text/plain": [
       "<Figure size 648x504 with 1 Axes>"
      ]
     },
     "metadata": {},
     "output_type": "display_data"
    }
   ],
   "source": [
    "inv_df = 1-df\n",
    "create_fig(inv_df.loc['f1 score'],'F1 Score')"
   ]
  },
  {
   "cell_type": "code",
   "execution_count": null,
   "metadata": {},
   "outputs": [],
   "source": []
  }
 ],
 "metadata": {
  "kernelspec": {
   "display_name": "Python 3",
   "language": "python",
   "name": "python3"
  },
  "language_info": {
   "codemirror_mode": {
    "name": "ipython",
    "version": 3
   },
   "file_extension": ".py",
   "mimetype": "text/x-python",
   "name": "python",
   "nbconvert_exporter": "python",
   "pygments_lexer": "ipython3",
   "version": "3.7.6"
  }
 },
 "nbformat": 4,
 "nbformat_minor": 4
}
